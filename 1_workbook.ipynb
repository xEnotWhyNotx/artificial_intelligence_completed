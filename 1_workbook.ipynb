{
 "cells": [
  {
   "cell_type": "markdown",
   "metadata": {},
   "source": [
    "***Пример***\n",
    "Выведите на печать и определите тип переменной"
   ]
  },
  {
   "cell_type": "code",
   "execution_count": 4,
   "metadata": {},
   "outputs": [
    {
     "name": "stdout",
     "output_type": "stream",
     "text": [
      "39.4 | <class 'float'> \n",
      " None | <class 'NoneType'> \n",
      " ('a', 5, 12.345, (2, 'b')) | <class 'tuple'> \n",
      " [['Антонова Антонина', 34, 'ж'], ['Борисов Борис', 26, 'м']] | <class 'list'> \n",
      " {1, 2, 'title', 'content'} | <class 'set'>\n"
     ]
    }
   ],
   "source": [
    "x = 3+5.2*7\n",
    "y = None\n",
    "z = 'a', 5, 12.345, (2, 'b')\n",
    "df = [['Антонова Антонина', 34, 'ж'], ['Борисов Борис', 26, 'м']]\n",
    "A = {1, 'title', 2, 'content'}\n",
    "print(x, '|', type(x), '\\n', y, '|', type(y), '\\n', \n",
    "     z, '|', type(z), '\\n', df, '|', type(df), '\\n', A, '|', type(A))"
   ]
  },
  {
   "cell_type": "markdown",
   "metadata": {},
   "source": [
    "***Задача***\n",
    "Выведите на печать и определите тип переменной."
   ]
  },
  {
   "cell_type": "code",
   "execution_count": 5,
   "metadata": {},
   "outputs": [
    {
     "name": "stdout",
     "output_type": "stream",
     "text": [
      "True | <class 'bool'> \n",
      " {8, 1, 3, 7} | <class 'set'> \n",
      " {2, 4, 5, 'apple', 10} | <class 'set'> \n",
      " set() | <class 'set'> \n",
      " ('Антонова Антонина', 34, 'ж') | <class 'tuple'> \n",
      " type | <class 'str'> \n",
      " [1, 'tittle', 2, 'content'] | <class 'list'>\n"
     ]
    }
   ],
   "source": [
    "x = 5 >= 2\n",
    "A = {1, 3, 7, 8}\n",
    "B = {2, 4, 5, 10, 'apple'}\n",
    "C = A & B\n",
    "df = 'Антонова Антонина', 34, 'ж'\n",
    "z = 'type'\n",
    "D = [1, 'tittle', 2, 'content']\n",
    "print(x, '|', type(x), '\\n', A, '|', type(A), '\\n', \n",
    "     B, '|', type(B), '\\n', C, '|', type(C), '\\n', df, '|', type(df), '\\n', z, '|', type(z), '\\n', D, '|', type(D))"
   ]
  },
  {
   "cell_type": "markdown",
   "metadata": {},
   "source": [
    "### Условный оператор\n",
    "#### If - условный оператор\n",
    "```\n",
    "    В коде часто приходится проверять выполнимость или невыполнимость каких-то условий. Синтаксис:\n",
    "if <условие1 (булевское выражение)> :\n",
    "    <код, который выполнится, если условие верно>\n",
    "elif <условие2 (булевское выражение)>:\n",
    "    <код, который выполнится, если условие1 было неверно, а условие2 верно>\n",
    "else:\n",
    "    <код, который выполнится, если условие1 и условие2 были неверны>\n",
    "    Обратите внимание, что код, который должен выполняться внутри каждого условия, записывается с отступом в 4 пробела \n",
    "от уровня if, elif и else: в питоне области видимости переменных обозначаются отступами.\n",
    "```\n",
    "***То есть, отступы позволяют понять, где начинается код, который должен выполняться при выполнении условия в if, и где заканчивается.***"
   ]
  },
  {
   "cell_type": "markdown",
   "metadata": {},
   "source": [
    "***Пример***\n",
    "Вывести на экран является ли переменная x положительной, отрицательной или равна нулю."
   ]
  },
  {
   "cell_type": "code",
   "execution_count": 6,
   "metadata": {},
   "outputs": [
    {
     "name": "stdout",
     "output_type": "stream",
     "text": [
      "x положительный\n"
     ]
    }
   ],
   "source": [
    "x = 125 \n",
    "if x<0:\n",
    "    print(\"x отрицательный\")\n",
    "elif x==0:\n",
    "    print(\"x равен нулю\")\n",
    "else:\n",
    "    print(\"x положительный\")"
   ]
  },
  {
   "cell_type": "markdown",
   "metadata": {},
   "source": [
    "***Задача***\n",
    "Напишите код. Задается x, напечатать какому из интервалов принадлежит:\n",
    "(-infinity, -5), [-5, 5] или от (5, +infinity)"
   ]
  },
  {
   "cell_type": "code",
   "execution_count": 10,
   "metadata": {},
   "outputs": [
    {
     "name": "stdout",
     "output_type": "stream",
     "text": [
      "x принадлежит промежутку (-infinity, -5)\n"
     ]
    }
   ],
   "source": [
    "x = -134134\n",
    "if x < -5:\n",
    "    print(\"x принадлежит промежутку (-infinity, -5)\")\n",
    "elif x >= -5 and x <= 5:\n",
    "    print(\"x принадлежит промежутку [-5, 5]\")\n",
    "else: \n",
    "    print(\"x принадлежит промежутку (5, +infinity)\")"
   ]
  },
  {
   "cell_type": "markdown",
   "metadata": {},
   "source": [
    "### Циклы, массивы, срезы\n",
    "```\n",
    "    Цикл while проверяет истинность условия, и если условие истинно, то выполняет инструкции цикла.\n",
    "    Синтаксис:\n",
    "    while условие:\n",
    "        инструкции\n",
    "    Инструкции, которые относятся к циклу while, располагаются на последующих строках и должны иметь \n",
    "отступ от начала ключевого слова while.\n",
    "    Цикл for проходит по набору значений, помещает каждое значение в переменную с которой в цикле можно \n",
    "производить различные действия.\n",
    "    Синтаксис:\n",
    "    for переменная in набор_значений:\n",
    "        инструкции\n",
    "    После ключевого слова for идет название переменной, в которую будут помещаться значения. \n",
    "После оператора in указывается набор значений и двоеточие. Инструкции, которые относятся к циклу, \n",
    "располагаются на последующих строках и \n",
    "должны иметь отступ.\n",
    "    При создании цикла удобно пользоваться функцией range(a, b), которая создает последовательность чисел от a до b-1.\n"
   ]
  },
  {
   "cell_type": "markdown",
   "metadata": {},
   "source": [
    "***Пример***\n",
    "Вывести все числа от 1 до 10 с шагом 3."
   ]
  },
  {
   "cell_type": "code",
   "execution_count": 11,
   "metadata": {},
   "outputs": [
    {
     "name": "stdout",
     "output_type": "stream",
     "text": [
      "1\n",
      "4\n",
      "7\n",
      "10\n"
     ]
    }
   ],
   "source": [
    "x = 1\n",
    "while x <= 10:\n",
    "    print(x)\n",
    "    x += 3"
   ]
  },
  {
   "cell_type": "markdown",
   "metadata": {},
   "source": [
    "***Пример*** \n",
    "Задан список. Напечатать все элементы списка."
   ]
  },
  {
   "cell_type": "code",
   "execution_count": 1,
   "metadata": {},
   "outputs": [
    {
     "name": "stdout",
     "output_type": "stream",
     "text": [
      "KNN\n",
      "decision tree\n",
      "linear model\n"
     ]
    }
   ],
   "source": [
    "models = ['KNN', 'decision tree', 'linear model']\n",
    "for model in models:\n",
    "    print(model)"
   ]
  },
  {
   "cell_type": "markdown",
   "metadata": {},
   "source": [
    "***Пример*** \n",
    "Создать список от 1 до 99 с шагом 7."
   ]
  },
  {
   "cell_type": "code",
   "execution_count": 2,
   "metadata": {},
   "outputs": [
    {
     "name": "stdout",
     "output_type": "stream",
     "text": [
      "[1, 8, 15, 22, 29, 36, 43, 50, 57, 64, 71, 78, 85, 92, 99]\n"
     ]
    }
   ],
   "source": [
    "list_int = range(1, 100, 7)\n",
    "print(list(list_int))"
   ]
  },
  {
   "cell_type": "markdown",
   "metadata": {},
   "source": [
    "***Пример*** \n",
    "Вывести на экран числа от 5 до 105 с шагом 25, используя функцию range()"
   ]
  },
  {
   "cell_type": "code",
   "execution_count": 3,
   "metadata": {},
   "outputs": [
    {
     "name": "stdout",
     "output_type": "stream",
     "text": [
      "5\n",
      "30\n",
      "55\n",
      "80\n",
      "105\n"
     ]
    }
   ],
   "source": [
    "for i in range(5, 106, 25):\n",
    "    print(i)"
   ]
  },
  {
   "cell_type": "markdown",
   "metadata": {},
   "source": [
    "***Пример***\n",
    "Срез. Необходимо получить каждый k-й элемент массива a, \n",
    "начиная с элемента с индексом i (включительно) и заканчивая \n",
    "элементом с индексом j (не включительно), c шагом 2. Переставить \n",
    "все элементы в обратном порядке."
   ]
  },
  {
   "cell_type": "code",
   "execution_count": 4,
   "metadata": {},
   "outputs": [
    {
     "name": "stdout",
     "output_type": "stream",
     "text": [
      "[2, 4, 6]\n",
      "[9, 8, 7, 6, 5, 4, 3, 2, 1]\n"
     ]
    }
   ],
   "source": [
    "a = [1, 2, 3, 4, 5, 6, 7, 8, 9]\n",
    "b = a[1:7:2]\n",
    "c = a[::-1]\n",
    "print(b)\n",
    "print(c)"
   ]
  },
  {
   "cell_type": "markdown",
   "metadata": {},
   "source": [
    "***Задача***\n",
    "Выведите числа из примера на while (3.2.1) в обратном порядке."
   ]
  },
  {
   "cell_type": "code",
   "execution_count": 6,
   "metadata": {},
   "outputs": [
    {
     "name": "stdout",
     "output_type": "stream",
     "text": [
      "10\n",
      "7\n",
      "4\n",
      "1\n"
     ]
    }
   ],
   "source": [
    "x = 10\n",
    "while x >= 1:\n",
    "    print(x)\n",
    "    x -= 3"
   ]
  },
  {
   "cell_type": "markdown",
   "metadata": {},
   "source": [
    "***Задача***\n",
    "При решении задач машинного обучения часто в качестве объектов \n",
    "исследования выступает человек. Создайте список значимых \n",
    "характеристик (признаков), идентифицирующих человека. \n",
    "Выведите список на экран."
   ]
  },
  {
   "cell_type": "code",
   "execution_count": 7,
   "metadata": {},
   "outputs": [
    {
     "name": "stdout",
     "output_type": "stream",
     "text": [
      "sex\n",
      "height\n",
      "weight\n"
     ]
    }
   ],
   "source": [
    "human = ['sex', 'height', 'weight']\n",
    "for humans in human:\n",
    "    print(humans)"
   ]
  },
  {
   "cell_type": "markdown",
   "metadata": {},
   "source": [
    "***Задача*** \n",
    "Создать список чисел от 2 до 15 с шагом 1."
   ]
  },
  {
   "cell_type": "code",
   "execution_count": 10,
   "metadata": {},
   "outputs": [
    {
     "name": "stdout",
     "output_type": "stream",
     "text": [
      "[2, 3, 4, 5, 6, 7, 8, 9, 10, 11, 12, 13, 14, 15]\n"
     ]
    }
   ],
   "source": [
    "list_int = range(2, 16)\n",
    "print(list(list_int))"
   ]
  },
  {
   "cell_type": "markdown",
   "metadata": {},
   "source": [
    "***Задача*** \n",
    "Выведите числа из примера на for c функцией range() (3.2.4) в обратном порядке."
   ]
  },
  {
   "cell_type": "code",
   "execution_count": 3,
   "metadata": {},
   "outputs": [
    {
     "name": "stdout",
     "output_type": "stream",
     "text": [
      "[105, 80, 55, 30, 5]\n"
     ]
    }
   ],
   "source": [
    "q = []\n",
    "j = 0\n",
    "for i in range(5, 106, 25):\n",
    "    q.append(i)\n",
    "    j += 1\n",
    "print(q[::-1])\n",
    "    "
   ]
  },
  {
   "cell_type": "markdown",
   "metadata": {},
   "source": [
    "***Задача***\n",
    "Срез. Напишите код, который все элементы массива x с четными индексами переставит в обратном порядке. Т.е. если x = [0, 1, 2, 3, 4, 5, 6, 7, 8, 9], то код должен сформировать [8, 1, 6, 3, 4, 5, 2, 7, 0, 9]."
   ]
  },
  {
   "cell_type": "code",
   "execution_count": 12,
   "metadata": {},
   "outputs": [
    {
     "name": "stdout",
     "output_type": "stream",
     "text": [
      "[0, 1, 2, 3, 4, 5, 6, 7, 8, 9]\n",
      "[8, 1, 6, 3, 4, 5, 2, 7, 0, 9]\n"
     ]
    }
   ],
   "source": [
    "x = list(range(0, 10))\n",
    "print(x)\n",
    "x_temp = x[::2]\n",
    "x_temp.reverse()\n",
    "for i in range(0, len(x)):\n",
    "    if (i % 2 == 0):\n",
    "        x[i] = x_temp[i//2]\n",
    "print(x)\n",
    "          \n"
   ]
  },
  {
   "cell_type": "markdown",
   "metadata": {},
   "source": [
    "### Теоретический материал - Библиотеки\n",
    "```\n",
    "    Машинное обучение опирается на фундаментальные понятия и \n",
    "законы математики и информатики. Библиотека математических \n",
    "функций (math) применяется при решении большинства прикладных \n",
    "задач анализа данных. Также, и некоторые другие библиотеки \n",
    "Python содержат математические функции (например, NumPy). \n",
    "Важную роль играет библиотека matplotlib, которая позволяет \n",
    "производить визуализацию расчетов в удобной для восприятия \n",
    "человеком форме: графики, диаграммы, гистограммы.\n",
    "    Подключение библиотек – синтаксис: \n",
    "import math as m\n",
    "import numpy as np\n",
    "import matplotlib.pyplot as plt\n",
    "etc…\n",
    "Библиотеки в python содержат не только функции, позволяющие \n",
    "решать различные задачи, но и некоторые популярные константы, \n",
    "например число Эйлера.\n",
    "```"
   ]
  },
  {
   "cell_type": "markdown",
   "metadata": {},
   "source": [
    "***Пример***\n",
    "Рассчитать синус от е радиан и вывести результат на экран"
   ]
  },
  {
   "cell_type": "code",
   "execution_count": 13,
   "metadata": {
    "scrolled": false
   },
   "outputs": [
    {
     "name": "stdout",
     "output_type": "stream",
     "text": [
      "0.41078129050290885\n"
     ]
    }
   ],
   "source": [
    "import math as m\n",
    "print (m.sin(m.e))"
   ]
  },
  {
   "cell_type": "markdown",
   "metadata": {},
   "source": [
    "***Пример***\n",
    "    Для функции sin⁡〖(xe^cos⁡〖(x)〗 )〗 на интервале [0;10] с \n",
    "шагом 0,05 построить график функции, закрасить площадь под \n",
    "ним и вычислить значение этой площади.\n",
    "    Для вычисления площади воспользуйтесь функцией trapz(), \n",
    "вычисляющей интеграл по правилу трапеции. Для ее корректной \n",
    "работы необходимо подключить следующие библиотеки:\n",
    "from scipy.integrate import simps\n",
    "from numpy import trapz\n"
   ]
  },
  {
   "cell_type": "code",
   "execution_count": 97,
   "metadata": {},
   "outputs": [
    {
     "name": "stdout",
     "output_type": "stream",
     "text": [
      "73.50792907748662\n"
     ]
    },
    {
     "data": {
      "image/png": "[encoded data removed]",
      "text/plain": [
       "<Figure size 432x288 with 1 Axes>"
      ]
     },
     "metadata": {
      "needs_background": "light"
     },
     "output_type": "display_data"
    }
   ],
   "source": [
    "import numpy as np\n",
    "import matplotlib.pyplot as plt\n",
    "from scipy.integrate import simps\n",
    "from numpy import trapz\n",
    "x = np.arange(0.0, 10, 0.1)\n",
    "y = np.abs(np.sin(x*np.exp(np.cos(x))))\n",
    "plt.grid()\n",
    "plt.plot(x, y, c = \"r\")\n",
    "plt.fill_between(x, y)\n",
    "\n",
    "area = trapz(y)\n",
    "print(area)"
   ]
  },
  {
   "cell_type": "markdown",
   "metadata": {},
   "source": [
    "***Пример***\n",
    "Дано некоторое распределение оценок в группе за экзамен. Нарисовать круговую и точечную диаграммы распределения. "
   ]
  },
  {
   "cell_type": "code",
   "execution_count": 18,
   "metadata": {},
   "outputs": [
    {
     "data": {
      "image/png": "[encoded data removed]",
      "text/plain": [
       "<Figure size 720x504 with 1 Axes>"
      ]
     },
     "metadata": {},
     "output_type": "display_data"
    },
    {
     "data": {
      "text/plain": [
       "<matplotlib.collections.PathCollection at 0x20cc030e490>"
      ]
     },
     "execution_count": 18,
     "metadata": {},
     "output_type": "execute_result"
    },
    {
     "data": {
      "image/png": "[encoded data removed]",
      "text/plain": [
       "<Figure size 432x288 with 1 Axes>"
      ]
     },
     "metadata": {
      "needs_background": "light"
     },
     "output_type": "display_data"
    }
   ],
   "source": [
    "from matplotlib import pyplot as plt\n",
    "import numpy as np\n",
    "marks = ['Неуд', 'Удовл', 'Хор', 'Отл']\n",
    "data = [3, 7, 8, 4]\n",
    "fig = plt.figure(figsize = (10, 7))\n",
    "plt.pie(data, labels = marks)\n",
    "plt.show()\n",
    "plt.grid()\n",
    "plt.scatter(marks, data)"
   ]
  },
  {
   "cell_type": "markdown",
   "metadata": {},
   "source": [
    "***Задание***\n",
    "Задайте массив случайных значений из интервала (0; 1). \n",
    "Рассчитайте средние и медианные значения для массива, сравните результаты, какие выводы можно сделать о значениях? \n",
    "Постройте точечную диаграмму рассеяния полученного ряда."
   ]
  },
  {
   "cell_type": "code",
   "execution_count": 59,
   "metadata": {},
   "outputs": [
    {
     "name": "stdout",
     "output_type": "stream",
     "text": [
      "5.164758937161644\n",
      "0.5149523070856066\n"
     ]
    },
    {
     "data": {
      "image/png": "[encoded data removed]",
      "text/plain": [
       "<Figure size 432x288 with 1 Axes>"
      ]
     },
     "metadata": {
      "needs_background": "light"
     },
     "output_type": "display_data"
    }
   ],
   "source": [
    "import random\n",
    "from matplotlib import pyplot as plt\n",
    "import numpy as np\n",
    "x = [0] * 100\n",
    "y = [0] * 100\n",
    "sum = 0\n",
    "temp = 0\n",
    "for i in range(0, 100):\n",
    "    x[i] = random.random()\n",
    "    sum = sum + x[i]\n",
    "    y[i] = i\n",
    "\n",
    "plt.grid()\n",
    "plt.scatter(y, x)\n",
    "\n",
    "for j in range(0, 100):\n",
    "    for k in range(0, 100):\n",
    "        if (x[k] >= x[j]):\n",
    "            temp = x[k]\n",
    "            x[k] = x[j]\n",
    "            x[j] = temp\n",
    "\n",
    "print(sum/10)\n",
    "print(x[len(x)//2])"
   ]
  },
  {
   "cell_type": "markdown",
   "metadata": {},
   "source": [
    "***Задача***\n",
    "Дана функция. Создать массив из 10 значений функции (x, например, изменяется от 1 до 10). Выделить срез первой половины массива и построить графики для основного массива, используя plt.plot(), для среза – точечный (plt.scatter())."
   ]
  },
  {
   "cell_type": "code",
   "execution_count": 95,
   "metadata": {},
   "outputs": [
    {
     "data": {
      "image/png": "[encoded data removed]",
      "text/plain": [
       "<Figure size 432x288 with 1 Axes>"
      ]
     },
     "metadata": {
      "needs_background": "light"
     },
     "output_type": "display_data"
    },
    {
     "data": {
      "text/plain": [
       "<matplotlib.collections.PathCollection at 0x20cc73e07f0>"
      ]
     },
     "execution_count": 95,
     "metadata": {},
     "output_type": "execute_result"
    },
    {
     "data": {
      "image/png": "[encoded data removed]",
      "text/plain": [
       "<Figure size 432x288 with 1 Axes>"
      ]
     },
     "metadata": {
      "needs_background": "light"
     },
     "output_type": "display_data"
    }
   ],
   "source": [
    "import math as m\n",
    "import numpy as np\n",
    "import matplotlib.pyplot as plt\n",
    "y1 = [0] * 10\n",
    "for x in range(1, 11):\n",
    "    y1[x-1] = (m.sqrt(1+(m.e)**m.sqrt(x)+m.cos(x**2)))/(abs(1-m.sin(x)**3)) + m.log(abs(2*x))\n",
    "y2 = y1[0:5]\n",
    "\n",
    "z = np.arange(0.0, 10, 1)\n",
    "n = np.arange(0.0, 5, 1)\n",
    "plt.grid()\n",
    "plt.plot(z, y1, c = \"g\")\n",
    "\n",
    "plt.show()\n",
    "plt.grid()\n",
    "plt.scatter(y2, n)\n"
   ]
  },
  {
   "cell_type": "markdown",
   "metadata": {},
   "source": [
    "***Задача***\n",
    "Дана функция |cos⁡(xe^((cos⁡(x)+ln⁡(x+1) ) ) ) | Построить график на интервале (0, 10) с шагом 1 с \n",
    "заливкой площади и найти эту площадь под ним. Для вычисления площади воспользуйтесь функцией \n",
    "trapz(), вычисляющей интеграл по правилу трапеции.\n",
    "Для ее корректной работы необходимо подключить следующие библиотеки:\n",
    "from scipy.integrate import simps\n",
    "from numpy import trapz\n"
   ]
  },
  {
   "cell_type": "code",
   "execution_count": 106,
   "metadata": {},
   "outputs": [
    {
     "name": "stdout",
     "output_type": "stream",
     "text": [
      "6.629620027368516\n"
     ]
    },
    {
     "data": {
      "image/png": "[encoded data removed]",
      "text/plain": [
       "<Figure size 432x288 with 1 Axes>"
      ]
     },
     "metadata": {
      "needs_background": "light"
     },
     "output_type": "display_data"
    }
   ],
   "source": [
    "import math as m\n",
    "from scipy.integrate import simps \n",
    "from numpy import trapz\n",
    "y = [0] * 11\n",
    "for x in range(1, 12):\n",
    "    y[x-1] = abs(m.cos(x*(m.e)**(m.cos(x)+m.log(x+1))))\n",
    "z = np.arange(0.0, 11, 1)  \n",
    "plt.grid()\n",
    "plt.plot(z, y, c = \"g\")\n",
    "plt.fill_between(z, y)\n",
    "\n",
    "area = trapz(y)\n",
    "print(area)"
   ]
  },
  {
   "cell_type": "markdown",
   "metadata": {},
   "source": [
    "***Задача***\n",
    "Откройте статистические данные по стоимости акций Apple, Microsoft, Google за 12 месяцев 2021 г. \n",
    "Постройте 3 графика на плоскости и оцените их динамику. Подумайте, как можно улучшить \n",
    "визуализацию результатов.\n",
    "Для начальных данных допустимо использовать следующий ресурс: https://finance.yahoo.com\n"
   ]
  },
  {
   "cell_type": "code",
   "execution_count": 112,
   "metadata": {},
   "outputs": [
    {
     "data": {
      "image/png": "[encoded data removed]",
      "text/plain": [
       "<Figure size 432x288 with 1 Axes>"
      ]
     },
     "metadata": {
      "needs_background": "light"
     },
     "output_type": "display_data"
    },
    {
     "data": {
      "image/png": "[encoded data removed]",
      "text/plain": [
       "<Figure size 432x288 with 1 Axes>"
      ]
     },
     "metadata": {
      "needs_background": "light"
     },
     "output_type": "display_data"
    },
    {
     "data": {
      "image/png": "[encoded data removed]",
      "text/plain": [
       "<Figure size 432x288 with 1 Axes>"
      ]
     },
     "metadata": {
      "needs_background": "light"
     },
     "output_type": "display_data"
    }
   ],
   "source": [
    "apple = [131.96, 121.26, 122.15, 131.46, 124.61, 136.96, 145.86, 151.83, 141.50, 149.80, 165.30, 177.57]\n",
    "z = np.arange(0.0, 12, 1)\n",
    "plt.plot(z, apple, c = \"r\")\n",
    "plt.grid()\n",
    "plt.show()\n",
    "\n",
    "microsoft = [231.96, 232.38, 235.77, 252.18, 249.68, 270.90, 284.91, 301.88, 281.92, 331.62, 330.59, 336.32]\n",
    "plt.plot(z, microsoft, c = \"g\")\n",
    "plt.grid()\n",
    "plt.show()\n",
    "\n",
    "google = [91.79, 101.84, 103.43, 120.51, 120.58, 125.32, 135.22, 145.46, 133.27, 148.27, 142.45, 144.68]\n",
    "plt.plot(z, google, c = \"b\")\n",
    "plt.grid()\n",
    "plt.show()"
   ]
  },
  {
   "cell_type": "markdown",
   "metadata": {},
   "source": [
    "***Задача***\n",
    "Создайте простейший калькулятор, включающий основные действия для двух переменных '+','-','∙','÷', \n",
    "а также вычисление следующих функций: e^(x+y),sin⁡〖(x+y)〗,cos⁡〖(x+y)〗,x^y."
   ]
  },
  {
   "cell_type": "code",
   "execution_count": 4,
   "metadata": {},
   "outputs": [
    {
     "name": "stdout",
     "output_type": "stream",
     "text": [
      "x = 4\n",
      "sign = +\n",
      "y = 2\n",
      "6\n",
      "----------------------------------------------\n",
      "e^(x+y) =  403.428793492735\n",
      "sin(x+y) =  -0.27941549819892586\n",
      "cos(x+y) =  0.960170286650366\n",
      "x^y =  16\n"
     ]
    }
   ],
   "source": [
    "import math as m\n",
    "x = int(input(\"x = \"))\n",
    "sign = input(\"sign = \")\n",
    "y = int(input(\"y = \"))\n",
    "\n",
    "if sign == \"+\":\n",
    "    print(x+y)\n",
    "elif sign == \"-\":\n",
    "    print(x-y)\n",
    "elif sign == \"*\":\n",
    "    print(x*y)\n",
    "elif sign == \"/\":\n",
    "    print(x/y)\n",
    "else:\n",
    "    print(\"Error!!!\")\n",
    "print(\"----------------------------------------------\")\n",
    "print(\"e^(x+y) = \", m.e**(x+y))\n",
    "print(\"sin(x+y) = \", m.sin(x+y))\n",
    "print(\"cos(x+y) = \", m.cos(x+y))\n",
    "print(\"x^y = \", x**y)\n"
   ]
  }
 ],
 "metadata": {
  "kernelspec": {
   "display_name": "Python 3 (ipykernel)",
   "language": "python",
   "name": "python3"
  },
  "language_info": {
   "codemirror_mode": {
    "name": "ipython",
    "version": 3
   },
   "file_extension": ".py",
   "mimetype": "text/x-python",
   "name": "python",
   "nbconvert_exporter": "python",
   "pygments_lexer": "ipython3",
   "version": "3.9.12"
  }
 },
 "nbformat": 4,
 "nbformat_minor": 2
}
